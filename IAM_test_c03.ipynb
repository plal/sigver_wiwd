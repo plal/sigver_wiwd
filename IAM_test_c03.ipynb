{
 "cells": [
  {
   "cell_type": "code",
   "execution_count": 1,
   "metadata": {},
   "outputs": [],
   "source": [
    "from scipy.misc import imread\n",
    "from preprocess.normalize import preprocess_signature\n",
    "import signet\n",
    "import os\n",
    "import re\n",
    "from cnn_model import CNNModel\n",
    "import numpy as np\n",
    "import pandas as pd"
   ]
  },
  {
   "cell_type": "code",
   "execution_count": 93,
   "metadata": {
    "scrolled": true
   },
   "outputs": [],
   "source": [
    "canvas_size = (150,825)\n",
    "\n",
    "model_weight_path = 'models/signet.pkl'\n",
    "model = CNNModel(signet, model_weight_path)"
   ]
  },
  {
   "cell_type": "code",
   "execution_count": 94,
   "metadata": {},
   "outputs": [
    {
     "name": "stderr",
     "output_type": "stream",
     "text": [
      "/home/pedro2/anaconda3/envs/sigver/lib/python2.7/site-packages/ipykernel_launcher.py:35: DeprecationWarning: `imread` is deprecated!\n",
      "`imread` is deprecated in SciPy 1.0.0, and will be removed in 1.2.0.\n",
      "Use ``imageio.imread`` instead.\n"
     ]
    },
    {
     "name": "stdout",
     "output_type": "stream",
     "text": [
      "Warning: cropping image. The signature should be smaller than the canvas size\n",
      "Warning: cropping image. The signature should be smaller than the canvas size\n"
     ]
    },
    {
     "name": "stderr",
     "output_type": "stream",
     "text": [
      "/home/pedro2/anaconda3/envs/sigver/lib/python2.7/site-packages/ipykernel_launcher.py:42: DeprecationWarning: `imread` is deprecated!\n",
      "`imread` is deprecated in SciPy 1.0.0, and will be removed in 1.2.0.\n",
      "Use ``imageio.imread`` instead.\n",
      "/home/pedro2/anaconda3/envs/sigver/lib/python2.7/site-packages/ipykernel_launcher.py:28: DeprecationWarning: `imread` is deprecated!\n",
      "`imread` is deprecated in SciPy 1.0.0, and will be removed in 1.2.0.\n",
      "Use ``imageio.imread`` instead.\n",
      "/home/pedro2/anaconda3/envs/sigver/lib/python2.7/site-packages/ipykernel_launcher.py:7: DeprecationWarning: `imread` is deprecated!\n",
      "`imread` is deprecated in SciPy 1.0.0, and will be removed in 1.2.0.\n",
      "Use ``imageio.imread`` instead.\n",
      "  import sys\n"
     ]
    },
    {
     "name": "stdout",
     "output_type": "stream",
     "text": [
      "Warning: cropping image. The signature should be smaller than the canvas size\n",
      "Warning: cropping image. The signature should be smaller than the canvas size\n",
      "Warning: cropping image. The signature should be smaller than the canvas size\n",
      "Warning: cropping image. The signature should be smaller than the canvas size\n"
     ]
    },
    {
     "name": "stderr",
     "output_type": "stream",
     "text": [
      "/home/pedro2/anaconda3/envs/sigver/lib/python2.7/site-packages/ipykernel_launcher.py:14: DeprecationWarning: `imread` is deprecated!\n",
      "`imread` is deprecated in SciPy 1.0.0, and will be removed in 1.2.0.\n",
      "Use ``imageio.imread`` instead.\n",
      "  \n"
     ]
    },
    {
     "name": "stdout",
     "output_type": "stream",
     "text": [
      "Warning: cropping image. The signature should be smaller than the canvas size\n"
     ]
    },
    {
     "name": "stderr",
     "output_type": "stream",
     "text": [
      "/home/pedro2/anaconda3/envs/sigver/lib/python2.7/site-packages/ipykernel_launcher.py:21: DeprecationWarning: `imread` is deprecated!\n",
      "`imread` is deprecated in SciPy 1.0.0, and will be removed in 1.2.0.\n",
      "Use ``imageio.imread`` instead.\n"
     ]
    },
    {
     "name": "stdout",
     "output_type": "stream",
     "text": [
      "Warning: cropping image. The signature should be smaller than the canvas size\n",
      "Warning: cropping image. The signature should be smaller than the canvas size\n",
      "Warning: cropping image. The signature should be smaller than the canvas size\n",
      "Warning: cropping image. The signature should be smaller than the canvas size\n",
      "Warning: cropping image. The signature should be smaller than the canvas size\n",
      "Warning: cropping image. The signature should be smaller than the canvas size\n",
      "Warning: cropping image. The signature should be smaller than the canvas size\n",
      "Warning: cropping image. The signature should be smaller than the canvas size\n",
      "Warning: cropping image. The signature should be smaller than the canvas size\n",
      "Warning: cropping image. The signature should be smaller than the canvas size\n",
      "Warning: cropping image. The signature should be smaller than the canvas size\n",
      "Warning: cropping image. The signature should be smaller than the canvas size\n",
      "Warning: cropping image. The signature should be smaller than the canvas size\n",
      "Warning: cropping image. The signature should be smaller than the canvas size\n",
      "Warning: cropping image. The signature should be smaller than the canvas size\n",
      "Warning: cropping image. The signature should be smaller than the canvas size\n",
      "Warning: cropping image. The signature should be smaller than the canvas size\n",
      "Warning: cropping image. The signature should be smaller than the canvas size\n",
      "Warning: cropping image. The signature should be smaller than the canvas size\n",
      "Warning: cropping image. The signature should be smaller than the canvas size\n",
      "Warning: cropping image. The signature should be smaller than the canvas size\n",
      "Warning: cropping image. The signature should be smaller than the canvas size\n",
      "Warning: cropping image. The signature should be smaller than the canvas size\n",
      "Warning: cropping image. The signature should be smaller than the canvas size\n",
      "Warning: cropping image. The signature should be smaller than the canvas size\n",
      "Warning: cropping image. The signature should be smaller than the canvas size\n",
      "Warning: cropping image. The signature should be smaller than the canvas size\n",
      "Warning: cropping image. The signature should be smaller than the canvas size\n",
      "Warning: cropping image. The signature should be smaller than the canvas size\n",
      "Warning: cropping image. The signature should be smaller than the canvas size\n",
      "Warning: cropping image. The signature should be smaller than the canvas size\n",
      "Warning: cropping image. The signature should be smaller than the canvas size\n",
      "Warning: cropping image. The signature should be smaller than the canvas size\n",
      "Warning: cropping image. The signature should be smaller than the canvas size\n"
     ]
    },
    {
     "data": {
      "text/plain": [
       "4366"
      ]
     },
     "execution_count": 94,
     "metadata": {},
     "output_type": "execute_result"
    }
   ],
   "source": [
    "data = []\n",
    "root = 'c03/'\n",
    "myre = 'c03/c03-\\d\\d\\dc'\n",
    "for subdirs, dirs, files in os.walk(root):\n",
    "    if 'a' in subdirs:\n",
    "        for filename in files:\n",
    "            img = imread(subdirs + '/' + filename)\n",
    "            img_proc = preprocess_signature(img, canvas_size)\n",
    "            feature_vector = model.get_feature_vector(img_proc)\n",
    "            new_feature_vector = np.append(feature_vector, 'A')\n",
    "            data.append(new_feature_vector)\n",
    "    if 'b' in subdirs:\n",
    "        for filename in files:\n",
    "            img = imread(subdirs + '/' + filename)\n",
    "            img_proc = preprocess_signature(img, canvas_size)\n",
    "            feature_vector = model.get_feature_vector(img_proc)\n",
    "            new_feature_vector = np.append(feature_vector, 'B')\n",
    "            data.append(new_feature_vector)\n",
    "    if re.search(myre,subdirs):\n",
    "        for filename in files:\n",
    "            img = imread(subdirs + '/' + filename)\n",
    "            img_proc = preprocess_signature(img, canvas_size)\n",
    "            feature_vector = model.get_feature_vector(img_proc)\n",
    "            new_feature_vector = np.append(feature_vector, 'C')\n",
    "            data.append(new_feature_vector)\n",
    "    if 'd' in subdirs:\n",
    "        for filename in files:\n",
    "            img = imread(subdirs + '/' + filename)\n",
    "            img_proc = preprocess_signature(img, canvas_size)\n",
    "            feature_vector = model.get_feature_vector(img_proc)\n",
    "            new_feature_vector = np.append(feature_vector, 'D')\n",
    "            data.append(new_feature_vector)\n",
    "    if 'e' in subdirs:\n",
    "        for filename in files:\n",
    "            img = imread(subdirs + '/' + filename)\n",
    "            img_proc = preprocess_signature(img, canvas_size)\n",
    "            feature_vector = model.get_feature_vector(img_proc)\n",
    "            new_feature_vector = np.append(feature_vector, 'E')\n",
    "            data.append(new_feature_vector)\n",
    "    if 'f' in subdirs:\n",
    "        for filename in files:\n",
    "            img = imread(subdirs + '/' + filename)\n",
    "            img_proc = preprocess_signature(img, canvas_size)\n",
    "            feature_vector = model.get_feature_vector(img_proc)\n",
    "            new_feature_vector = np.append(feature_vector, 'F')\n",
    "            data.append(new_feature_vector)\n",
    "            \n",
    "len(data)"
   ]
  },
  {
   "cell_type": "code",
   "execution_count": 95,
   "metadata": {},
   "outputs": [
    {
     "name": "stdout",
     "output_type": "stream",
     "text": [
      "2049\n"
     ]
    }
   ],
   "source": [
    "labels = []\n",
    "for i in range(1,2049):\n",
    "    labels.append(str(i))\n",
    "labels.append(\"author\")\n",
    "print(len(labels))\n"
   ]
  },
  {
   "cell_type": "code",
   "execution_count": 96,
   "metadata": {
    "scrolled": true
   },
   "outputs": [],
   "source": [
    "df = pd.DataFrame(data=data, columns=labels)"
   ]
  },
  {
   "cell_type": "code",
   "execution_count": 97,
   "metadata": {},
   "outputs": [],
   "source": [
    "df.to_csv('df_c03.csv')"
   ]
  },
  {
   "cell_type": "code",
   "execution_count": 98,
   "metadata": {},
   "outputs": [],
   "source": [
    "dataframe = pd.read_csv('df_c03.csv')\n",
    "dataframe = dataframe.drop('Unnamed: 0', axis=1)"
   ]
  },
  {
   "cell_type": "code",
   "execution_count": 99,
   "metadata": {},
   "outputs": [
    {
     "data": {
      "text/plain": [
       "4366"
      ]
     },
     "execution_count": 99,
     "metadata": {},
     "output_type": "execute_result"
    }
   ],
   "source": [
    "data_without_label = dataframe.drop('author',axis=1)\n",
    "len(data_without_label)"
   ]
  },
  {
   "cell_type": "code",
   "execution_count": 100,
   "metadata": {},
   "outputs": [
    {
     "data": {
      "text/plain": [
       "4366"
      ]
     },
     "execution_count": 100,
     "metadata": {},
     "output_type": "execute_result"
    }
   ],
   "source": [
    "target = dataframe['author']\n",
    "len(target)"
   ]
  },
  {
   "cell_type": "code",
   "execution_count": 101,
   "metadata": {},
   "outputs": [],
   "source": [
    "from sklearn.model_selection import train_test_split\n",
    "from sklearn import svm\n",
    "from sklearn.model_selection import KFold"
   ]
  },
  {
   "cell_type": "code",
   "execution_count": 102,
   "metadata": {},
   "outputs": [
    {
     "name": "stdout",
     "output_type": "stream",
     "text": [
      "(3056, 2048)\n",
      "(1310, 2048)\n",
      "(3056,)\n",
      "(1310,)\n"
     ]
    }
   ],
   "source": [
    "X_train, X_test, y_train, y_test = train_test_split(data_without_label, target, test_size=0.3, random_state=0)\n",
    "\n",
    "print(X_train.shape)\n",
    "print(X_test.shape)\n",
    "print(y_train.shape)\n",
    "print(y_test.shape)"
   ]
  },
  {
   "cell_type": "code",
   "execution_count": 103,
   "metadata": {},
   "outputs": [
    {
     "data": {
      "text/plain": [
       "0.93053435114503813"
      ]
     },
     "execution_count": 103,
     "metadata": {},
     "output_type": "execute_result"
    }
   ],
   "source": [
    "model = svm.SVC(kernel='rbf', gamma = 'auto', C=1).fit(X_train, y_train)\n",
    "model.score(X_test,y_test)"
   ]
  },
  {
   "cell_type": "code",
   "execution_count": 104,
   "metadata": {},
   "outputs": [
    {
     "name": "stdout",
     "output_type": "stream",
     "text": [
      "0.932494279176\n",
      "0.938144329897\n",
      "0.941580756014\n",
      "0.939289805269\n",
      "0.922107674685\n"
     ]
    }
   ],
   "source": [
    "scores = []\n",
    "kf = KFold(n_splits=5, random_state=0)\n",
    "for train_index, test_index in kf.split(data_without_label, target):\n",
    "    X_train2, X_test2 = data_without_label.iloc[train_index], data_without_label.iloc[test_index]\n",
    "    y_train2, y_test2 = target.iloc[train_index], target.iloc[test_index]\n",
    "    classif = svm.SVC(kernel='rbf', gamma = 'auto', C=1).fit(X_train2, y_train2)\n",
    "    scores.append(classif.score(X_test2, y_test2))\n",
    "    print(classif.score(X_test2, y_test2))"
   ]
  },
  {
   "cell_type": "code",
   "execution_count": 105,
   "metadata": {},
   "outputs": [
    {
     "name": "stdout",
     "output_type": "stream",
     "text": [
      "(150, 825)\n",
      "0.934723369008\n"
     ]
    }
   ],
   "source": [
    "print(canvas_size)\n",
    "print(np.mean(scores))"
   ]
  },
  {
   "cell_type": "code",
   "execution_count": null,
   "metadata": {},
   "outputs": [],
   "source": []
  },
  {
   "cell_type": "code",
   "execution_count": null,
   "metadata": {},
   "outputs": [],
   "source": []
  }
 ],
 "metadata": {
  "kernelspec": {
   "display_name": "Python 2",
   "language": "python",
   "name": "python2"
  },
  "language_info": {
   "codemirror_mode": {
    "name": "ipython",
    "version": 2
   },
   "file_extension": ".py",
   "mimetype": "text/x-python",
   "name": "python",
   "nbconvert_exporter": "python",
   "pygments_lexer": "ipython2",
   "version": "2.7.14"
  }
 },
 "nbformat": 4,
 "nbformat_minor": 2
}
